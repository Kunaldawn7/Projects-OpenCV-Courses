{
  "cells": [
    {
      "cell_type": "markdown",
      "metadata": {
        "id": "yQo8chxK4cqF"
      },
      "source": [
        "# <font style=\"color:blue\">Project 2: Kaggle Competition - Classification</font>\n",
        "\n",
        "#### Maximum Points: 100\n",
        "\n",
        "<div>\n",
        "    <table>\n",
        "        <tr><td><h3>Sr. no.</h3></td> <td><h3>Section</h3></td> <td><h3>Points</h3></td> </tr>\n",
        "        <tr><td><h3>1</h3></td> <td><h3>Data Loader</h3></td> <td><h3>10</h3></td> </tr>\n",
        "        <tr><td><h3>2</h3></td> <td><h3>Configuration</h3></td> <td><h3>5</h3></td> </tr>\n",
        "        <tr><td><h3>3</h3></td> <td><h3>Evaluation Metric</h3></td> <td><h3>10</h3></td> </tr>\n",
        "        <tr><td><h3>4</h3></td> <td><h3>Train and Validation</h3></td> <td><h3>5</h3></td> </tr>\n",
        "        <tr><td><h3>5</h3></td> <td><h3>Model</h3></td> <td><h3>5</h3></td> </tr>\n",
        "        <tr><td><h3>6</h3></td> <td><h3>Utils</h3></td> <td><h3>5</h3></td> </tr>\n",
        "        <tr><td><h3>7</h3></td> <td><h3>Experiment</h3></td><td><h3>5</h3></td> </tr>\n",
        "        <tr><td><h3>8</h3></td> <td><h3>TensorBoard Dev Scalars Log Link</h3></td> <td><h3>5</h3></td> </tr>\n",
        "        <tr><td><h3>9</h3></td> <td><h3>Kaggle Profile Link</h3></td> <td><h3>50</h3></td> </tr>\n",
        "    </table>\n",
        "</div>\n"
      ]
    },
    {
      "cell_type": "code",
      "execution_count": null,
      "metadata": {
        "id": "9PMpVpEf4cqH"
      },
      "outputs": [],
      "source": [
        "%matplotlib inline"
      ]
    },
    {
      "cell_type": "code",
      "execution_count": null,
      "metadata": {
        "id": "x6v9lcGU4cqI"
      },
      "outputs": [],
      "source": [
        "import matplotlib.pyplot as plt\n",
        "plt.style.use('ggplot')"
      ]
    },
    {
      "cell_type": "code",
      "execution_count": null,
      "metadata": {
        "id": "Tvx3OgOz4cqI"
      },
      "outputs": [],
      "source": [
        "%load_ext tensorboard\n",
        "#%reload_ext tensorboard\n",
        "\n",
        "%tensorboard --logdir=logs_kenyan_food_resnext"
      ]
    },
    {
      "cell_type": "code",
      "execution_count": null,
      "metadata": {
        "id": "DfUtUVaH4cqJ"
      },
      "outputs": [],
      "source": [
        "import os\n",
        "import time\n",
        "\n",
        "from typing import Iterable\n",
        "from dataclasses import dataclass\n",
        "\n",
        "import numpy as np\n",
        "import torch\n",
        "import torch.nn as nn\n",
        "import torch.optim as optim\n",
        "import torch.nn.functional as F\n",
        "\n",
        "\n",
        "from torchvision import datasets, transforms, models\n",
        "\n",
        "from torch.optim import lr_scheduler\n",
        "\n",
        "from torch.utils.data import Dataset, DataLoader\n",
        "from torch.utils.tensorboard import SummaryWriter\n",
        "\n",
        "import pandas as pd\n",
        "\n",
        "from PIL import Image\n",
        "\n",
        "from tqdm import tqdm"
      ]
    },
    {
      "cell_type": "markdown",
      "metadata": {
        "id": "VJb_Ka0L4cqJ"
      },
      "source": [
        "## <font style=\"color:green\">1. Data Loader [10 Points]</font>\n",
        "\n",
        "In this section, you have to write a class or methods that will be used to get training and validation data loader.\n",
        "\n",
        "For example,\n",
        "\n",
        "```\n",
        "def get_data(args1, *agrs):\n",
        "    ....\n",
        "    ....\n",
        "    return train_loader, test_loader\n",
        "```"
      ]
    },
    {
      "cell_type": "code",
      "execution_count": null,
      "metadata": {
        "id": "F6vt7ica4cqJ"
      },
      "outputs": [],
      "source": [
        "class Food13Dataset(Dataset):\n",
        "    def __init__(self, data, transform=None):\n",
        "        super().__init__()\n",
        "\n",
        "        self.transform = transform\n",
        "\n",
        "        # initialize the arrays to store the ground truth labels and paths to the images\n",
        "        self.data_path = []\n",
        "        self.labels = []\n",
        "\n",
        "        # iterate over the data numpy array\n",
        "        for i , (img_path,cls) in enumerate (data):\n",
        "            self.data_path.append(img_path)\n",
        "            self.labels.append(class_to_id[cls])\n",
        "\n",
        "\n",
        "    def __len__(self):\n",
        "        return len(self.data_path)\n",
        "\n",
        "    def __getitem__(self, idx):\n",
        "        # take the data sample by its index\n",
        "        img_path = self.data_path[idx]\n",
        "\n",
        "        # read image\n",
        "        img = Image.open(img_path)\n",
        "\n",
        "        # apply the image augmentations if needed\n",
        "        if self.transform:\n",
        "            img = self.transform(img)\n",
        "\n",
        "        # return the image and its associated labels and path\n",
        "        target = self.labels[idx]\n",
        "\n",
        "        return img, target\n",
        "\n",
        "    def image_path(self, idx):\n",
        "        return self.data_path[idx]\n",
        "\n",
        "    def class_name(self, label):\n",
        "        return id_to_class[label]"
      ]
    },
    {
      "cell_type": "code",
      "execution_count": null,
      "metadata": {
        "id": "LiK-boyP4cqJ"
      },
      "outputs": [],
      "source": [
        "def image_preprocess_transforms():\n",
        "\n",
        "    preprocess = transforms.Compose([\n",
        "        transforms.Resize(256),\n",
        "        transforms.CenterCrop(224),\n",
        "        transforms.ToTensor()\n",
        "        ])\n",
        "\n",
        "    return preprocess"
      ]
    },
    {
      "cell_type": "code",
      "execution_count": null,
      "metadata": {
        "id": "71Kd34M14cqJ"
      },
      "outputs": [],
      "source": [
        "def image_common_transforms(mean=(0.5773, 0.4627, 0.3468), std=(0.2387, 0.2470, 0.2473)):\n",
        "    preprocess = image_preprocess_transforms()\n",
        "\n",
        "    common_transforms = transforms.Compose([\n",
        "        preprocess,\n",
        "        transforms.Normalize(mean, std)\n",
        "    ])\n",
        "\n",
        "    return common_transforms"
      ]
    },
    {
      "cell_type": "code",
      "execution_count": null,
      "metadata": {
        "id": "Na-UMazM4cqK"
      },
      "outputs": [],
      "source": [
        "def data_loader(data, transform, batch_size=32, shuffle=False, num_workers=2):\n",
        "\n",
        "    dataset =  Food13Dataset(data, transform = transform)\n",
        "\n",
        "    loader = DataLoader(dataset,\n",
        "                        batch_size=batch_size,\n",
        "                        num_workers=num_workers,\n",
        "                        shuffle=shuffle)\n",
        "\n",
        "    return loader"
      ]
    },
    {
      "cell_type": "code",
      "execution_count": null,
      "metadata": {
        "id": "r06o15g44cqK"
      },
      "outputs": [],
      "source": [
        "def get_data(train_data, val_data, batch_size, num_workers=4, data_augmentation=False):\n",
        "\n",
        "\n",
        "    mean=(0.5773, 0.4627, 0.3468)\n",
        "    std=(0.2387, 0.2470, 0.2473)\n",
        "\n",
        "    common_transforms = image_common_transforms()\n",
        "\n",
        "\n",
        "    # if data_augmentation is true\n",
        "    # data augmentation implementation\n",
        "    if data_augmentation:\n",
        "        train_transforms = transforms.Compose([\n",
        "            transforms.Resize(256),\n",
        "            transforms.CenterCrop(224),\n",
        "            transforms.ColorJitter(brightness = 0.6),\n",
        "            transforms.RandomChoice([\n",
        "                transforms.RandomHorizontalFlip(),\n",
        "                transforms.RandomVerticalFlip(),\n",
        "                transforms.RandomRotation(20, fill=(0,0,0)),\n",
        "                transforms.RandomCrop(224, padding=4),\n",
        "                transforms.RandomAffine(30, translate=(0.3,0.3),\n",
        "                                        scale=(0.8, 1.2), shear=None)\n",
        "            ]),\n",
        "\n",
        "            transforms.ToTensor(),\n",
        "            transforms.Normalize(mean, std)\n",
        "        ])\n",
        "    # else do common transforms\n",
        "    else:\n",
        "        train_transforms = common_transforms\n",
        "\n",
        "\n",
        "    # train dataloader\n",
        "\n",
        "    train_loader = data_loader(train_data,\n",
        "                               train_transforms,\n",
        "                               batch_size=batch_size,\n",
        "                               shuffle=True,\n",
        "                               num_workers=num_workers)\n",
        "\n",
        "    # test dataloader\n",
        "\n",
        "\n",
        "    test_loader = data_loader(val_data,\n",
        "                              common_transforms,\n",
        "                              batch_size=batch_size,\n",
        "                              shuffle=False,\n",
        "                              num_workers=num_workers)\n",
        "\n",
        "    return train_loader, test_loader"
      ]
    },
    {
      "cell_type": "markdown",
      "metadata": {
        "id": "xswuL08Y4cqK"
      },
      "source": [
        "## <font style=\"color:green\">2. Configuration [5 Points]</font>\n",
        "\n",
        "Define your configuration in this section.\n",
        "\n",
        "For example,\n",
        "\n",
        "```\n",
        "@dataclass\n",
        "class TrainingConfiguration:\n",
        "    '''\n",
        "    Describes configuration of the training process\n",
        "    '''\n",
        "    batch_size: int = 10\n",
        "    epochs_count: int = 50\n",
        "    init_learning_rate: float = 0.1  # initial learning rate for lr scheduler\n",
        "    log_interval: int = 5\n",
        "    test_interval: int = 1\n",
        "    data_root: str = \"./cat-dog-panda\"\n",
        "    num_workers: int = 2\n",
        "    device: str = 'cuda'\n",
        "\n",
        "```"
      ]
    },
    {
      "cell_type": "code",
      "execution_count": null,
      "metadata": {
        "id": "L49T9nZ14cqK"
      },
      "outputs": [],
      "source": [
        "@dataclass\n",
        "class SystemConfiguration:\n",
        "    '''\n",
        "    Describes the common system setting needed for reproducible training\n",
        "    '''\n",
        "    seed: int = 21  # seed number to set the state of all random number generators\n",
        "    cudnn_benchmark_enabled: bool = True  # enable CuDNN benchmark for the sake of performance\n",
        "    cudnn_deterministic: bool = True  # make cudnn deterministic (reproducible training)"
      ]
    },
    {
      "cell_type": "code",
      "execution_count": null,
      "metadata": {
        "id": "HSyqhbGP4cqK"
      },
      "outputs": [],
      "source": [
        "@dataclass\n",
        "class TrainingConfiguration:\n",
        "    '''\n",
        "    Describes configuration of the training process\n",
        "    '''\n",
        "    batch_size: int = 32\n",
        "    epochs_count: int = 60\n",
        "    init_learning_rate: float = 0.0001  # initial learning rate for lr scheduler\n",
        "    log_interval: int = 10\n",
        "    test_interval: int = 1\n",
        "    num_workers: int = 8\n",
        "    device: str = 'cuda'"
      ]
    },
    {
      "cell_type": "code",
      "execution_count": null,
      "metadata": {
        "id": "uIVD14Vs4cqK"
      },
      "outputs": [],
      "source": [
        "#System Setup\n",
        "\n",
        "def setup_system(system_config: SystemConfiguration) -> None:\n",
        "    torch.manual_seed(system_config.seed)\n",
        "    if torch.cuda.is_available():\n",
        "        torch.backends.cudnn_benchmark_enabled = system_config.cudnn_benchmark_enabled\n",
        "        torch.backends.cudnn.deterministic = system_config.cudnn_deterministic"
      ]
    },
    {
      "cell_type": "markdown",
      "metadata": {
        "id": "gvyiyTcv4cqK"
      },
      "source": [
        "## <font style=\"color:green\">3. Evaluation Metric [10 Points]</font>\n",
        "\n",
        "Define methods or classes that will be used in model evaluation, for example, accuracy, f1-score, etc."
      ]
    },
    {
      "cell_type": "code",
      "execution_count": null,
      "metadata": {
        "id": "BKEIO2P94cqK"
      },
      "outputs": [],
      "source": [
        "from sklearn.metrics import accuracy_score, confusion_matrix"
      ]
    },
    {
      "cell_type": "code",
      "execution_count": null,
      "metadata": {
        "id": "i19F6lJN4cqL"
      },
      "outputs": [],
      "source": [
        "def prediction(model, device, batch_input):\n",
        "\n",
        "    # send model to cpu/cuda according to your system configuration\n",
        "    model.to(device)\n",
        "\n",
        "    # it is important to do model.eval() before prediction\n",
        "    model.eval()\n",
        "\n",
        "    data = batch_input.to(device)\n",
        "\n",
        "    output = model(data)\n",
        "\n",
        "    # Score to probability using softmax\n",
        "    prob = F.softmax(output, dim=1)\n",
        "\n",
        "    # get the max probability\n",
        "    pred_prob = prob.data.max(dim=1)[0]\n",
        "\n",
        "    # get the index of the max probability\n",
        "    pred_index = prob.data.max(dim=1)[1]\n",
        "\n",
        "    return pred_index.cpu().numpy(), pred_prob.cpu().numpy()"
      ]
    },
    {
      "cell_type": "code",
      "execution_count": null,
      "metadata": {
        "id": "3KbdqNKX4cqL"
      },
      "outputs": [],
      "source": [
        "def get_prediction(model, data, mean, std):\n",
        "\n",
        "    batch_size = 60\n",
        "\n",
        "    if torch.cuda.is_available():\n",
        "        device = \"cuda\"\n",
        "        num_workers = 8\n",
        "    else:\n",
        "        device = \"cpu\"\n",
        "        num_workers = 2\n",
        "\n",
        "\n",
        "\n",
        "    # transformed data\n",
        "    val_dataset_trans = Food13Dataset(data, transform=image_common_transforms())\n",
        "\n",
        "\n",
        "    data_len = val_dataset_trans.__len__()\n",
        "    total_batches = data_len//batch_size\n",
        "    rem_batch = data_len % batch_size\n",
        "\n",
        "    targets = []\n",
        "    classes = []\n",
        "\n",
        "    count = 0\n",
        "    # We prefer to do the predictions in batches and combine them later\n",
        "    for j in range(total_batches):\n",
        "\n",
        "        inputs = []\n",
        "        print(\"Getting predictions for batch \",j+1,\"...\")\n",
        "        for i in range(batch_size):\n",
        "            index = count\n",
        "            trans_input, target = val_dataset_trans.__getitem__(index)\n",
        "\n",
        "\n",
        "            inputs.append(trans_input)\n",
        "            targets.append(target)\n",
        "            count+= 1\n",
        "\n",
        "        inputs = torch.stack(inputs)\n",
        "\n",
        "\n",
        "\n",
        "        cls, prob = prediction(model, device, batch_input=inputs)\n",
        "        classes.extend([item for item in cls])\n",
        "\n",
        "\n",
        "    # Calculate predictions for the last remaining batch\n",
        "    inputs = []\n",
        "    print(\"Getting predictions for the last batch...\")\n",
        "    for i in range(rem_batch):\n",
        "        index = count\n",
        "        trans_input, target = val_dataset_trans.__getitem__(index)\n",
        "\n",
        "\n",
        "        inputs.append(trans_input)\n",
        "        targets.append(target)\n",
        "        count+= 1\n",
        "\n",
        "    inputs = torch.stack(inputs)\n",
        "\n",
        "    cls, prob = prediction(model, device, batch_input=inputs)\n",
        "    classes.extend([item for item in cls])\n",
        "\n",
        "    return np.array(classes), np.array(targets)"
      ]
    },
    {
      "cell_type": "code",
      "execution_count": null,
      "metadata": {
        "id": "zbi3NIQ_4cqL"
      },
      "outputs": [],
      "source": [
        "def accuracy_and_confusion_matrix(target, cls, id_to_class):\n",
        "\n",
        "    accuracy = accuracy_score(target, cls)\n",
        "    cn_matrix = confusion_matrix(target,cls, labels = list(id_to_class.keys()))\n",
        "\n",
        "    return accuracy, cn_matrix"
      ]
    },
    {
      "cell_type": "markdown",
      "metadata": {
        "id": "OxaHG_f24cqL"
      },
      "source": [
        "## <font style=\"color:green\">4. Train and Validation [5 Points]</font>\n",
        "\n",
        "Write the methods or classes that will be used for training and validation."
      ]
    },
    {
      "cell_type": "code",
      "execution_count": null,
      "metadata": {
        "id": "KZda67Io4cqL"
      },
      "outputs": [],
      "source": [
        "def train(\n",
        "    train_config: TrainingConfiguration, model: nn.Module, optimizer: torch.optim.Optimizer,\n",
        "    train_loader: torch.utils.data.DataLoader, epoch_idx: int, tb_writer: SummaryWriter\n",
        ") -> None:\n",
        "\n",
        "    # change model in training mood\n",
        "    model.train()\n",
        "\n",
        "    # to get batch loss\n",
        "    batch_loss = np.array([])\n",
        "\n",
        "    # to get batch accuracy\n",
        "    batch_acc = np.array([])\n",
        "\n",
        "    for batch_idx, (data, target) in enumerate(train_loader):\n",
        "\n",
        "        # clone target\n",
        "        indx_target = target.clone()\n",
        "        # send data to device (its is medatory if GPU has to be used)\n",
        "        data = data.to(train_config.device)\n",
        "        # send target to device\n",
        "        target = target.to(train_config.device)\n",
        "\n",
        "        # reset parameters gradient to zero\n",
        "        optimizer.zero_grad()\n",
        "\n",
        "        # forward pass to the model\n",
        "        output = model(data)\n",
        "\n",
        "        # cross entropy loss\n",
        "        loss = F.cross_entropy(output, target)\n",
        "\n",
        "        # find gradients w.r.t training parameters\n",
        "        loss.backward()\n",
        "        # Update parameters using gardients\n",
        "        optimizer.step()\n",
        "\n",
        "        batch_loss = np.append(batch_loss, [loss.item()])\n",
        "\n",
        "        # Score to probability using softmax\n",
        "        prob = F.softmax(output, dim=1)\n",
        "\n",
        "        # get the index of the max probability\n",
        "        pred = prob.data.max(dim=1)[1]\n",
        "\n",
        "        # correct prediction\n",
        "        correct = pred.cpu().eq(indx_target).sum()\n",
        "\n",
        "        # accuracy\n",
        "        acc = float(correct) / float(len(data))\n",
        "\n",
        "        batch_acc = np.append(batch_acc, [acc])\n",
        "\n",
        "        if batch_idx % train_config.log_interval == 0 and batch_idx > 0:\n",
        "\n",
        "            total_batch = epoch_idx * len(train_loader.dataset)/train_config.batch_size + batch_idx\n",
        "            tb_writer.add_scalar('Loss/train-batch', loss.item(), total_batch)\n",
        "            tb_writer.add_scalar('Accuracy/train-batch', acc, total_batch)\n",
        "\n",
        "\n",
        "    epoch_loss = batch_loss.mean()\n",
        "    epoch_acc = batch_acc.mean()\n",
        "    print('Epoch: {} \\nTrain Loss: {:.6f} Acc: {:.4f}'.format(epoch_idx, epoch_loss, epoch_acc))\n",
        "    return epoch_loss, epoch_acc"
      ]
    },
    {
      "cell_type": "code",
      "execution_count": null,
      "metadata": {
        "id": "UhBKzfcI4cqL"
      },
      "outputs": [],
      "source": [
        "def validate(\n",
        "    train_config: TrainingConfiguration,\n",
        "    model: nn.Module,\n",
        "    test_loader: torch.utils.data.DataLoader,\n",
        ") -> float:\n",
        "    #\n",
        "    model.eval()\n",
        "    test_loss = 0\n",
        "    count_corect_predictions = 0\n",
        "    for data, target in test_loader:\n",
        "        indx_target = target.clone()\n",
        "        data = data.to(train_config.device)\n",
        "\n",
        "        target = target.to(train_config.device)\n",
        "\n",
        "        output = model(data)\n",
        "        # add loss for each mini batch\n",
        "        test_loss += F.cross_entropy(output, target).item()\n",
        "\n",
        "        # Score to probability using softmax\n",
        "        prob = F.softmax(output, dim=1)\n",
        "\n",
        "        # get the index of the max probability\n",
        "        pred = prob.data.max(dim=1)[1]\n",
        "\n",
        "        # add correct prediction count\n",
        "        count_corect_predictions += pred.cpu().eq(indx_target).sum()\n",
        "\n",
        "    # average over number of mini-batches\n",
        "    test_loss = test_loss / len(test_loader)\n",
        "\n",
        "    # average over number of dataset\n",
        "    accuracy = 100. * count_corect_predictions / len(test_loader.dataset)\n",
        "\n",
        "    print(\n",
        "        '\\nTest set: Average loss: {:.4f}, Accuracy: {}/{} ({:.0f}%)\\n'.format(\n",
        "            test_loss, count_corect_predictions, len(test_loader.dataset), accuracy\n",
        "        )\n",
        "    )\n",
        "\n",
        "    return test_loss, accuracy/100.0"
      ]
    },
    {
      "cell_type": "code",
      "execution_count": null,
      "metadata": {
        "id": "qhMS-kp24cqL"
      },
      "outputs": [],
      "source": [
        "def main(model, optimizer, tb_writer, scheduler=None, system_configuration=SystemConfiguration(),\n",
        "         training_configuration=TrainingConfiguration(), data_augmentation=True):\n",
        "\n",
        "    # system configuration\n",
        "    setup_system(system_configuration)\n",
        "\n",
        "    # batch size\n",
        "    batch_size_to_set = training_configuration.batch_size\n",
        "    # num_workers\n",
        "    num_workers_to_set = training_configuration.num_workers\n",
        "    # epochs\n",
        "    epoch_num_to_set = training_configuration.epochs_count\n",
        "\n",
        "    # if GPU is available use training config,\n",
        "    # else lowers batch_size, num_workers and epochs count\n",
        "    if torch.cuda.is_available():\n",
        "        device = \"cuda\"\n",
        "    else:\n",
        "        device = \"cpu\"\n",
        "        batch_size_to_set = 16\n",
        "        num_workers_to_set = 4\n",
        "\n",
        "    # data loader\n",
        "    train_loader, test_loader = get_data(train_data, val_data,\n",
        "        batch_size=batch_size_to_set,\n",
        "        num_workers=num_workers_to_set,\n",
        "        data_augmentation=data_augmentation\n",
        "    )\n",
        "\n",
        "    # Update training configuration\n",
        "    training_configuration = TrainingConfiguration(\n",
        "        device=device,\n",
        "        batch_size=batch_size_to_set,\n",
        "        num_workers=num_workers_to_set\n",
        "    )\n",
        "\n",
        "    # send model to device (GPU/CPU)\n",
        "    model.to(training_configuration.device)\n",
        "\n",
        "    best_loss = torch.tensor(np.inf)\n",
        "\n",
        "    # epoch train/test loss\n",
        "    epoch_train_loss = np.array([])\n",
        "    epoch_test_loss = np.array([])\n",
        "\n",
        "    # epch train/test accuracy\n",
        "    epoch_train_acc = np.array([])\n",
        "    epoch_test_acc = np.array([])\n",
        "\n",
        "    # trainig time measurement\n",
        "    t_begin = time.time()\n",
        "    for epoch in range(training_configuration.epochs_count):\n",
        "\n",
        "#         Calculate Initial Test Loss\n",
        "        init_val_loss, init_val_accuracy = validate(training_configuration, model, test_loader)\n",
        "        print(\"Initial Test Loss : {:.6f}, \\nInitial Test Accuracy : {:.3f}%\\n\".format(init_val_loss, init_val_accuracy*100))\n",
        "\n",
        "        # Train\n",
        "        train_loss, train_acc = train(training_configuration, model, optimizer, train_loader, epoch, tb_writer)\n",
        "\n",
        "        epoch_train_loss = np.append(epoch_train_loss, [train_loss])\n",
        "\n",
        "        epoch_train_acc = np.append(epoch_train_acc, [train_acc])\n",
        "\n",
        "        # add scalar (loss/accuracy) to tensorboard\n",
        "        tb_writer.add_scalar('Loss/Train',train_loss, epoch)\n",
        "        tb_writer.add_scalar('Accuracy/Train', train_acc, epoch)\n",
        "\n",
        "        elapsed_time = time.time() - t_begin\n",
        "        speed_epoch = elapsed_time / (epoch + 1)\n",
        "        speed_batch = speed_epoch / len(train_loader)\n",
        "        eta = speed_epoch * training_configuration.epochs_count - elapsed_time\n",
        "\n",
        "        print(\n",
        "            \"Elapsed {:.2f}s, {:.2f} s/epoch, {:.2f} s/batch, ets {:.2f}s\".format(\n",
        "                elapsed_time, speed_epoch, speed_batch, eta\n",
        "            )\n",
        "        )\n",
        "\n",
        "        # add time metadata to tensorboard\n",
        "        tb_writer.add_scalar('Time/elapsed_time', elapsed_time, epoch)\n",
        "        tb_writer.add_scalar('Time/speed_epoch', speed_epoch, epoch)\n",
        "        tb_writer.add_scalar('Time/speed_batch', speed_batch, epoch)\n",
        "        tb_writer.add_scalar('Time/eta', eta, epoch)\n",
        "\n",
        "        # Validate\n",
        "        if epoch % training_configuration.test_interval == 0:\n",
        "            current_loss, current_accuracy = validate(training_configuration, model, test_loader)\n",
        "\n",
        "            epoch_test_loss = np.append(epoch_test_loss, [current_loss])\n",
        "\n",
        "            epoch_test_acc = np.append(epoch_test_acc, [current_accuracy])\n",
        "\n",
        "            # add scalar (loss/accuracy) to tensorboard\n",
        "            tb_writer.add_scalar('Loss/Validation', current_loss, epoch)\n",
        "            tb_writer.add_scalar('Accuracy/Validation', current_accuracy, epoch)\n",
        "\n",
        "            # add scalars (loss/accuracy) to tensorboard\n",
        "            tb_writer.add_scalars('Loss/train-val', {'train': train_loss,\n",
        "                                           'validation': current_loss}, epoch)\n",
        "            tb_writer.add_scalars('Accuracy/train-val', {'train': train_acc,\n",
        "                                               'validation': current_accuracy}, epoch)\n",
        "\n",
        "            if current_loss < best_loss:\n",
        "                best_loss = current_loss\n",
        "                print('Model Improved. Saving the Model...\\n')\n",
        "                save_model(model, device=training_configuration.device)\n",
        "\n",
        "\n",
        "        if scheduler is not None:\n",
        "            scheduler.step()\n",
        "\n",
        "\n",
        "    print(\"Total time: {:.2f}, Best Loss: {:.3f}\".format(time.time() - t_begin, best_loss))\n",
        "\n",
        "    return model, epoch_train_loss, epoch_train_acc, epoch_test_loss, epoch_test_acc"
      ]
    },
    {
      "cell_type": "markdown",
      "metadata": {
        "id": "KAqkvzzk4cqL"
      },
      "source": [
        "## <font style=\"color:green\">5. Model [5 Points]</font>\n",
        "\n",
        "Define your model in this section."
      ]
    },
    {
      "cell_type": "code",
      "execution_count": null,
      "metadata": {
        "id": "IA0vdmgx4cqL"
      },
      "outputs": [],
      "source": [
        "def save_model(model, device, model_dir='models_resnext', model_file_name='kenyan_food_classifier.pt'):\n",
        "\n",
        "\n",
        "    if not os.path.exists(model_dir):\n",
        "        os.makedirs(model_dir)\n",
        "\n",
        "    model_path = os.path.join(model_dir, model_file_name)\n",
        "\n",
        "    # make sure you transfer the model to cpu.\n",
        "    if device == 'cuda':\n",
        "        model.to('cpu')\n",
        "\n",
        "    # save the state_dict\n",
        "    torch.save(model.state_dict(), model_path)\n",
        "\n",
        "    if device == 'cuda':\n",
        "        model.to('cuda')\n",
        "\n",
        "    return"
      ]
    },
    {
      "cell_type": "code",
      "execution_count": null,
      "metadata": {
        "id": "v2wlvXyU4cqL"
      },
      "outputs": [],
      "source": [
        "def load_model(model, model_dir='models_resnext', model_file_name='kenyan_food_classifier.pt'):\n",
        "    model_path = os.path.join(model_dir, model_file_name)\n",
        "\n",
        "    # loading the model and getting model parameters by using load_state_dict\n",
        "    model.load_state_dict(torch.load(model_path))\n",
        "\n",
        "    return model"
      ]
    },
    {
      "cell_type": "code",
      "execution_count": null,
      "metadata": {
        "id": "xn3VLdrN4cqL"
      },
      "outputs": [],
      "source": [
        "def pretrained_resnext50(num_class=13):\n",
        "    resnext = models.resnext50_32x4d(pretrained=True)\n",
        "\n",
        "    count=0\n",
        "    for child in resnext.children():\n",
        "        count+=1\n",
        "        if count<=7:\n",
        "            for param in child.parameters():\n",
        "                param.requires_grad = False\n",
        "\n",
        "\n",
        "\n",
        "    last_layer_in = resnext.fc.in_features\n",
        "    resnext.fc = nn.Linear(last_layer_in, num_class)\n",
        "\n",
        "\n",
        "    return resnext"
      ]
    },
    {
      "cell_type": "markdown",
      "metadata": {
        "id": "Upf0jJLm4cqL"
      },
      "source": [
        "## <font style=\"color:green\">6. Utils [5 Points]</font>\n",
        "\n",
        "Define your methods or classes which are not covered in the above sections."
      ]
    },
    {
      "cell_type": "code",
      "execution_count": null,
      "metadata": {
        "id": "KiFT0hFK4cqM"
      },
      "outputs": [],
      "source": [
        "def plot_loss_accuracy(train_loss, val_loss, train_acc, val_acc, colors,\n",
        "                       loss_legend_loc='upper center', acc_legend_loc='upper left',\n",
        "                       fig_size=(20, 10), sub_plot1=(1, 2, 1), sub_plot2=(1, 2, 2)):\n",
        "\n",
        "    plt.rcParams[\"figure.figsize\"] = fig_size\n",
        "    fig = plt.figure()\n",
        "\n",
        "    plt.subplot(sub_plot1[0], sub_plot1[1], sub_plot1[2])\n",
        "\n",
        "    for i in range(len(train_loss)):\n",
        "        x_train = range(len(train_loss[i]))\n",
        "        x_val = range(len(val_loss[i]))\n",
        "\n",
        "        min_train_loss = train_loss[i].min()\n",
        "\n",
        "        min_val_loss = val_loss[i].min()\n",
        "\n",
        "        plt.plot(x_train, train_loss[i], linestyle='-', color='tab:{}'.format(colors[i]),\n",
        "                 label=\"TRAIN LOSS ({0:.4})\".format(min_train_loss))\n",
        "        plt.plot(x_val, val_loss[i], linestyle='--' , color='tab:{}'.format(colors[i]),\n",
        "                 label=\"VALID LOSS ({0:.4})\".format(min_val_loss))\n",
        "\n",
        "    plt.xlabel('epoch no.')\n",
        "    plt.ylabel('loss')\n",
        "    plt.legend(loc=loss_legend_loc)\n",
        "    plt.title('Training and Validation Loss')\n",
        "\n",
        "    plt.subplot(sub_plot2[0], sub_plot2[1], sub_plot2[2])\n",
        "\n",
        "    for i in range(len(train_acc)):\n",
        "        x_train = range(len(train_acc[i]))\n",
        "        x_val = range(len(val_acc[i]))\n",
        "\n",
        "        max_train_acc = train_acc[i].max()\n",
        "\n",
        "        max_val_acc = val_acc[i].max()\n",
        "\n",
        "        plt.plot(x_train, train_acc[i], linestyle='-', color='tab:{}'.format(colors[i]),\n",
        "                 label=\"TRAIN ACC ({0:.4})\".format(max_train_acc))\n",
        "        plt.plot(x_val, val_acc[i], linestyle='--' , color='tab:{}'.format(colors[i]),\n",
        "                 label=\"VALID ACC ({0:.4})\".format(max_val_acc))\n",
        "\n",
        "    plt.xlabel('epoch no.')\n",
        "    plt.ylabel('accuracy')\n",
        "    plt.legend(loc=acc_legend_loc)\n",
        "    plt.title('Training and Validation Accuracy')\n",
        "\n",
        "    fig.savefig('sample_loss_acc_plot.png')\n",
        "    plt.show()\n",
        "\n",
        "    return"
      ]
    },
    {
      "cell_type": "code",
      "execution_count": null,
      "metadata": {
        "id": "cn1cBhzS4cqM"
      },
      "outputs": [],
      "source": [
        "dataset_df = pd.read_csv(\"train.csv\", delimiter=' *, *', engine='python')\n",
        "\n",
        "labels = np.unique(dataset_df['class'])\n",
        "\n",
        "id_to_class = dict(zip(range(len(labels)), labels))\n",
        "class_to_id = dict(zip(labels,range(len(labels))))"
      ]
    },
    {
      "cell_type": "code",
      "execution_count": null,
      "metadata": {
        "id": "8fXetMXr4cqM",
        "outputId": "94ec1258-2052-4278-b136-5c42bf174b9c"
      },
      "outputs": [
        {
          "name": "stderr",
          "output_type": "stream",
          "text": [
            "100%|██████████| 6536/6536 [00:00<00:00, 8699.02it/s]\n"
          ]
        }
      ],
      "source": [
        "data = []\n",
        "\n",
        "for index, row in tqdm(dataset_df.iterrows(), total=dataset_df.shape[0]):\n",
        "    data.append([\"images/images/\"+str(row['id'])+\".jpg\", row['class']])"
      ]
    },
    {
      "cell_type": "code",
      "execution_count": null,
      "metadata": {
        "id": "f2xWv2yZ4cqM",
        "outputId": "98b68c38-0498-4b4f-abf3-be7c30d39bd5"
      },
      "outputs": [
        {
          "data": {
            "text/plain": [
              "chapati        862\n",
              "nyamachoma     784\n",
              "bhaji          632\n",
              "ugali          628\n",
              "mandazi        620\n",
              "kachumbari     494\n",
              "matoke         483\n",
              "githeri        479\n",
              "masalachips    438\n",
              "sukumawiki     402\n",
              "pilau          329\n",
              "mukimo         212\n",
              "kukuchoma      173\n",
              "Name: class, dtype: int64"
            ]
          },
          "execution_count": 26,
          "metadata": {},
          "output_type": "execute_result"
        }
      ],
      "source": [
        "dataset_df['class'].value_counts()"
      ]
    },
    {
      "cell_type": "code",
      "execution_count": null,
      "metadata": {
        "id": "lsRcHUGz4cqM",
        "outputId": "916bdff5-0fff-4256-fcc4-9d54757b6864"
      },
      "outputs": [
        {
          "name": "stdout",
          "output_type": "stream",
          "text": [
            "(6536, 2)\n",
            "Training examples:  5228 \tValidation examples:  1308\n"
          ]
        }
      ],
      "source": [
        "data = np.asarray(data)\n",
        "print(data.shape)\n",
        "\n",
        "np.random.seed(21)\n",
        "\n",
        "\n",
        "inds = np.random.choice(len(dataset_df), len(dataset_df), replace=False)\n",
        "\n",
        "\n",
        "# split the data into train/val and save them as csv files\n",
        "\n",
        "train_data = data[inds][:int(0.8*len(dataset_df))]\n",
        "val_data = data[inds][int(0.8*len(dataset_df)):len(dataset_df)]\n",
        "\n",
        "print(\"Training examples: \",len(train_data),\"\\tValidation examples: \",len(val_data))"
      ]
    },
    {
      "cell_type": "code",
      "execution_count": null,
      "metadata": {
        "id": "W5CdPDkO4cqM",
        "outputId": "699dd735-8441-453c-9d16-42a3c0f8ef1b"
      },
      "outputs": [
        {
          "name": "stdout",
          "output_type": "stream",
          "text": [
            "511 121\n"
          ]
        }
      ],
      "source": [
        "print((\"bhaji\" == train_data).sum(), (\"bhaji\" == val_data).sum())"
      ]
    },
    {
      "cell_type": "markdown",
      "metadata": {
        "id": "7VstvlN84cqM"
      },
      "source": [
        "## <font style=\"color:green\">7. Experiment [5 Points]</font>\n",
        "\n",
        "Choose your optimizer and LR-scheduler and use the above methods and classes to train your model."
      ]
    },
    {
      "cell_type": "code",
      "execution_count": null,
      "metadata": {
        "id": "zsvPoI994cqM"
      },
      "outputs": [],
      "source": [
        "model = pretrained_resnext50()\n",
        "print(model)\n",
        "\n",
        "# get optimizer\n",
        "train_config = TrainingConfiguration()\n",
        "\n",
        "### CHANGE HERE ###\n",
        "\n",
        "# optimizer\n",
        "optimizer = optim.Adam(\n",
        "    model.parameters(),\n",
        "    lr = train_config.init_learning_rate, weight_decay = 0.01\n",
        ")\n",
        "\n",
        "decay_rate = 0.01\n",
        "\n",
        "lmbda = lambda epoch: 1/(1 + decay_rate * epoch)\n",
        "\n",
        "# Scheduler\n",
        "scheduler = lr_scheduler.LambdaLR(optimizer, lr_lambda=lmbda)"
      ]
    },
    {
      "cell_type": "code",
      "execution_count": null,
      "metadata": {
        "id": "75nAiqsv4cqM"
      },
      "outputs": [],
      "source": [
        "fine_tuning_sw = SummaryWriter('logs_kenyan_food_resnext')\n",
        "\n",
        "model, train_loss, train_acc, val_loss, val_acc = main(model, optimizer, fine_tuning_sw, scheduler=scheduler, data_augmentation=True)\n",
        "\n",
        "fine_tuning_sw.close()"
      ]
    },
    {
      "cell_type": "code",
      "execution_count": null,
      "metadata": {
        "id": "T8Ni-Z7O4cqM",
        "outputId": "3b448418-1406-4f47-dcb7-5e0ed5b620fa"
      },
      "outputs": [
        {
          "data": {
            "image/png": "[encoded data removed]",
            "text/plain": [
              "<Figure size 1440x720 with 2 Axes>"
            ]
          },
          "metadata": {},
          "output_type": "display_data"
        }
      ],
      "source": [
        "plot_loss_accuracy(train_loss=[train_loss],\n",
        "                   val_loss=[val_loss],\n",
        "                   train_acc=[train_acc],\n",
        "                   val_acc=[val_acc],\n",
        "                   colors=['blue'],\n",
        "                   loss_legend_loc='upper center',\n",
        "                   acc_legend_loc='upper left')"
      ]
    },
    {
      "cell_type": "code",
      "execution_count": null,
      "metadata": {
        "id": "LIENtEih4cqP"
      },
      "outputs": [],
      "source": [
        "m = pretrained_resnext50()\n",
        "\n",
        "m = load_model(m)\n",
        "\n",
        "train_config = TrainingConfiguration()\n",
        "\n",
        "data = val_data\n",
        "\n",
        "\n",
        "mean=(0.5773, 0.4627, 0.3468)\n",
        "std=(0.2387, 0.2470, 0.2473)"
      ]
    },
    {
      "cell_type": "code",
      "execution_count": null,
      "metadata": {
        "id": "fKNSRlDM4cqP",
        "outputId": "2c0fe763-dfdf-43cc-92f0-d20fa9069062"
      },
      "outputs": [
        {
          "name": "stdout",
          "output_type": "stream",
          "text": [
            "Getting predictions for batch  1 ...\n",
            "Getting predictions for batch  2 ...\n",
            "Getting predictions for batch  3 ...\n",
            "Getting predictions for batch  4 ...\n",
            "Getting predictions for batch  5 ...\n",
            "Getting predictions for batch  6 ...\n",
            "Getting predictions for batch  7 ...\n",
            "Getting predictions for batch  8 ...\n",
            "Getting predictions for batch  9 ...\n",
            "Getting predictions for batch  10 ...\n",
            "Getting predictions for batch  11 ...\n",
            "Getting predictions for batch  12 ...\n",
            "Getting predictions for batch  13 ...\n",
            "Getting predictions for batch  14 ...\n",
            "Getting predictions for batch  15 ...\n",
            "Getting predictions for batch  16 ...\n",
            "Getting predictions for batch  17 ...\n",
            "Getting predictions for batch  18 ...\n",
            "Getting predictions for batch  19 ...\n",
            "Getting predictions for batch  20 ...\n",
            "Getting predictions for batch  21 ...\n",
            "Getting predictions for the last batch...\n"
          ]
        }
      ],
      "source": [
        "cls, target = get_prediction(m, data, mean, std)"
      ]
    },
    {
      "cell_type": "code",
      "execution_count": null,
      "metadata": {
        "id": "fyzsbd2W4cqQ",
        "outputId": "2bf25448-544e-4b94-a9e1-b67bf777c8ef"
      },
      "outputs": [
        {
          "name": "stdout",
          "output_type": "stream",
          "text": [
            "Accuracy:  0.77217125382263\n",
            "Confusion Matrix:\n",
            "\n",
            "[[ 89   7   0   1   1   6   7   1   1   1   3   2   2]\n",
            " [  7 166   0   2   0   0   3   1   1   5   1   0   2]\n",
            " [  2   2  98   2   0   1   1   5   0   0   0   1   0]\n",
            " [  1   3   2  59   2   0   4   3   2   8   3   1  10]\n",
            " [  2   0   0   0  16   0   2   0   0  20   0   0   2]\n",
            " [  2   1   1   0   0 105   1   0   0   0   0   1   1]\n",
            " [  5   1   0   1   0   3  68   1   0   1   1   0   0]\n",
            " [  5   4   2   7   0   1   3  69   0   1   1   1   3]\n",
            " [  2   1   0   2   0   0   0   1  27   3   1   3   0]\n",
            " [  1   3   0   6  12   1   5   0   0 125   0   0   8]\n",
            " [  2   4   0   4   0   0   0   0   0   0  56   0   0]\n",
            " [  1   5   2   2   0   0   0   1   2   1   4  48  18]\n",
            " [  2   1   1   4   0   0   2   1   0   1   0  10  84]]\n"
          ]
        }
      ],
      "source": [
        "#Accuracy and confusion matrix\n",
        "accuracy, cn_matrix = accuracy_and_confusion_matrix(target, cls, id_to_class)\n",
        "\n",
        "print(\"Accuracy: \", accuracy)\n",
        "print(\"Confusion Matrix:\\n\")\n",
        "print(cn_matrix)"
      ]
    },
    {
      "cell_type": "markdown",
      "metadata": {
        "id": "r2H6B8KE4cqQ"
      },
      "source": [
        "## <font style=\"color:green\">8. TensorBoard Dev Scalars Log Link [5 Points]</font>\n",
        "\n",
        "Share your tensorboard scalars logs link in this section. You can also share (not mandatory) your GitHub link if you have pushed this project in GitHub.\n",
        "\n",
        "For example, [Find Project2 logs here](https://tensorboard.dev/experiment/kMJ4YU0wSNG0IkjrluQ5Dg/#scalars)."
      ]
    },
    {
      "cell_type": "markdown",
      "metadata": {
        "id": "Hs9nHpI14cqQ"
      },
      "source": []
    },
    {
      "cell_type": "markdown",
      "metadata": {
        "id": "q0etCdfA4cqQ"
      },
      "source": [
        "The link to tensorboard logs: https://tensorboard.dev/experiment/6DgRn8JGSnauPlHv8Uo14w/"
      ]
    },
    {
      "cell_type": "markdown",
      "metadata": {
        "id": "oypgK9bD4cqQ"
      },
      "source": [
        "## <font style=\"color:green\">9. Kaggle Profile Link [50 Points]</font>\n",
        "\n",
        "Share your Kaggle profile link here with us so that we can give points for the competition score."
      ]
    },
    {
      "cell_type": "markdown",
      "metadata": {
        "id": "4Lmha1oT4cqQ"
      },
      "source": []
    },
    {
      "cell_type": "code",
      "execution_count": null,
      "metadata": {
        "id": "g_lo5K5q4cqQ"
      },
      "outputs": [],
      "source": [
        "dataset_test_df = pd.read_csv(\"test.csv\", delimiter=' *, *', engine='python')"
      ]
    },
    {
      "cell_type": "code",
      "execution_count": null,
      "metadata": {
        "id": "9kqdPND04cqQ",
        "outputId": "547df094-fb57-4ceb-e31c-98ed7d23db60"
      },
      "outputs": [
        {
          "name": "stdout",
          "output_type": "stream",
          "text": [
            "1638\n"
          ]
        }
      ],
      "source": [
        "test_data = []\n",
        "\n",
        "for index, row in dataset_test_df.iterrows():\n",
        "    test_data.append(\"images/images/\"+str(row['id'])+\".jpg\")\n",
        "\n",
        "print(len(test_data))"
      ]
    },
    {
      "cell_type": "code",
      "execution_count": null,
      "metadata": {
        "id": "zE2asHtI4cqQ"
      },
      "outputs": [],
      "source": [
        "def get_prediction_for_test_data(model, data, mean, std):\n",
        "\n",
        "    batch_size = 60\n",
        "\n",
        "    if torch.cuda.is_available():\n",
        "        device = \"cuda\"\n",
        "        num_workers = 8\n",
        "    else:\n",
        "        device = \"cpu\"\n",
        "        num_workers = 2\n",
        "\n",
        "\n",
        "\n",
        "    # transformed data\n",
        "    test_dataset_trans = image_common_transforms()\n",
        "\n",
        "\n",
        "    data_len = len(data)\n",
        "    total_batches = data_len//batch_size\n",
        "    rem_batch = data_len % batch_size\n",
        "\n",
        "    classes = []\n",
        "\n",
        "    index = 0\n",
        "    # We prefer to do the predictions in batches and combine them later\n",
        "    for j in range(total_batches):\n",
        "\n",
        "        inputs = []\n",
        "        print(\"Getting predictions for batch \",j+1,\"...\")\n",
        "        for i in range(batch_size):\n",
        "            img_path = data[index]\n",
        "            img = Image.open(img_path)\n",
        "            img = test_dataset_trans(img)\n",
        "\n",
        "            inputs.append(img)\n",
        "            index+= 1\n",
        "\n",
        "        inputs = torch.stack(inputs)\n",
        "\n",
        "\n",
        "\n",
        "        cls, prob = prediction(model, device, batch_input=inputs)\n",
        "        classes.extend([item for item in cls])\n",
        "\n",
        "\n",
        "    # Calculate predictions for the last remaining batch\n",
        "    inputs = []\n",
        "    print(\"Getting predictions for the last batch...\")\n",
        "    for i in range(rem_batch):\n",
        "        img_path = data[index]\n",
        "        img = Image.open(img_path)\n",
        "        img = test_dataset_trans(img)\n",
        "\n",
        "        inputs.append(img)\n",
        "        index+= 1\n",
        "\n",
        "    inputs = torch.stack(inputs)\n",
        "\n",
        "    cls, prob = prediction(model, device, batch_input=inputs)\n",
        "    classes.extend([item for item in cls])\n",
        "\n",
        "    return np.array(classes), index"
      ]
    },
    {
      "cell_type": "code",
      "execution_count": null,
      "metadata": {
        "id": "7dfTdyBc4cqQ",
        "outputId": "5ca90aab-92c7-4850-ccd1-567678c20865"
      },
      "outputs": [
        {
          "name": "stdout",
          "output_type": "stream",
          "text": [
            "Getting predictions for batch  1 ...\n",
            "Getting predictions for batch  2 ...\n",
            "Getting predictions for batch  3 ...\n",
            "Getting predictions for batch  4 ...\n",
            "Getting predictions for batch  5 ...\n",
            "Getting predictions for batch  6 ...\n",
            "Getting predictions for batch  7 ...\n",
            "Getting predictions for batch  8 ...\n",
            "Getting predictions for batch  9 ...\n",
            "Getting predictions for batch  10 ...\n",
            "Getting predictions for batch  11 ...\n",
            "Getting predictions for batch  12 ...\n",
            "Getting predictions for batch  13 ...\n",
            "Getting predictions for batch  14 ...\n",
            "Getting predictions for batch  15 ...\n",
            "Getting predictions for batch  16 ...\n",
            "Getting predictions for batch  17 ...\n",
            "Getting predictions for batch  18 ...\n",
            "Getting predictions for batch  19 ...\n",
            "Getting predictions for batch  20 ...\n",
            "Getting predictions for batch  21 ...\n",
            "Getting predictions for batch  22 ...\n",
            "Getting predictions for batch  23 ...\n",
            "Getting predictions for batch  24 ...\n",
            "Getting predictions for batch  25 ...\n",
            "Getting predictions for batch  26 ...\n",
            "Getting predictions for batch  27 ...\n",
            "Getting predictions for the last batch...\n"
          ]
        }
      ],
      "source": [
        "test_classes, idx_count = get_prediction_for_test_data(m, test_data, mean, std)"
      ]
    },
    {
      "cell_type": "code",
      "execution_count": null,
      "metadata": {
        "id": "oBQ7L90v4cqQ"
      },
      "outputs": [],
      "source": [
        "classes = [id_to_class[k] for k in test_classes]\n",
        "ids = list(dataset_test_df['id'])"
      ]
    },
    {
      "cell_type": "code",
      "execution_count": null,
      "metadata": {
        "id": "ioMkWnRf4cqR"
      },
      "outputs": [],
      "source": [
        "test_dict = {'id':ids,'class':classes}\n",
        "df_test_sample = pd.DataFrame.from_dict(test_dict)\n",
        "df_test_sample.to_csv('submission_resnext.csv', index=False)"
      ]
    },
    {
      "cell_type": "markdown",
      "metadata": {
        "id": "9S1CLfaq4cqR"
      },
      "source": [
        "Kaggle details:\n",
        "\n",
        "User name: kunaldawn7\n",
        "\n",
        "User ID 3739739\n",
        "\n",
        "Display Name: Kunal"
      ]
    }
  ],
  "metadata": {
    "kernelspec": {
      "display_name": "Python 3 (ipykernel)",
      "language": "python",
      "name": "python3"
    },
    "language_info": {
      "codemirror_mode": {
        "name": "ipython",
        "version": 3
      },
      "file_extension": ".py",
      "mimetype": "text/x-python",
      "name": "python",
      "nbconvert_exporter": "python",
      "pygments_lexer": "ipython3",
      "version": "3.10.9"
    },
    "colab": {
      "provenance": []
    }
  },
  "nbformat": 4,
  "nbformat_minor": 0
}